{
 "cells": [
  {
   "cell_type": "markdown",
   "metadata": {},
   "source": [
    "# eNanoMapper API guide"
   ]
  },
  {
   "cell_type": "markdown",
   "metadata": {},
   "source": [
    "## eNanoMapper database background\n",
    "\n",
    "- FP7 project eNanoMapper http://www.enanomapper.net/\n",
    "- eNanoMapper database implementation: AMBIT software http://ambit.sf.net\n",
    "- publication https://www.beilstein-journals.org/bjnano/articles/6/165\n",
    "- eNanoMapper prototype database https://data.enanomapper.net \n",
    "\n",
    "## Nanosafety data \n",
    "\n",
    "- Nanosafety Data Interface: https://search.data.enanomapper.net/  (data from multiple projects imported into eNanoMapper databases)\n",
    "- Each project data is imported into one eNanoMapper database instance, e.g. https://apps.ideaconsult.net/nanoreg1  \n",
    "\n",
    "- Aggregated search view across multiple databases are available at https://search.data.enanomapper.net \n",
    "- REST API at https://api.ideaconsult.net\n"
   ]
  },
  {
   "cell_type": "markdown",
   "metadata": {},
   "source": [
    "## eNanoMapper data model"
   ]
  },
  {
   "cell_type": "markdown",
   "metadata": {},
   "source": [
    "![data model](http://ambit.sourceforge.net/enanomapper/templates/images/data_model.png)\n",
    "https://search.data.enanomapper.net/datamodel/"
   ]
  },
  {
   "cell_type": "markdown",
   "metadata": {},
   "source": [
    "## eNanoMapper database API\n",
    "\n",
    "- OpenAPI3 API documentation at https://api.ideaconsult.net\n",
    "- (Deprecated) Swagger API docs at http://enanomapper.github.io/API/\n",
    "- Python client https://pypi.org/project/pynanomapper/\n"
   ]
  },
  {
   "cell_type": "code",
   "execution_count": null,
   "metadata": {},
   "outputs": [],
   "source": [
    "# For Google Colab environments we need to install additional dependencies and support files. Note that Colab, as of\n",
    "# 09/2020, uses Python 3.6 as runtime, which is important for the subprocess.run() parameters that changed in 3.7.\n",
    "try:\n",
    "    import google.colab\n",
    "except ModuleNotFoundError:\n",
    "    pass\n",
    "else:\n",
    "    import subprocess\n",
    "    import sys\n",
    "\n",
    "    from pathlib import Path\n",
    "\n",
    "    import requests\n",
    "\n",
    "    colab_reqs = ['pynanomapper>=1.1.1']\n",
    "    anno_names = ['assays', 'cells', 'endpoint', 'endpointcategory', 'endpointcategory_names', 'species',\n",
    "                   'substancetype', 'substancetype.terse']\n",
    "    anno_base_url = 'https://raw.githubusercontent.com/ideaconsult/notebooks-ambit/master/enanomapper/annotation/'\n",
    "    anno_dir = Path('./annotation')\n",
    "    anno_dir.mkdir(parents=True, exist_ok=True)\n",
    "    pip_cmd = [sys.executable, '-m', 'pip', 'install', '--upgrade']\n",
    "    pip_cmd.extend(colab_reqs)\n",
    "    print('Google Colab detected. Installing additional dependencies.\\nRunning {} ...'.format(' '.join(pip_cmd)))\n",
    "    pip_run = subprocess.run(pip_cmd, stdout=subprocess.PIPE, stderr=subprocess.PIPE, universal_newlines=True)\n",
    "    if pip_run.stderr:\n",
    "        print(pip_run.stderr)\n",
    "    else:\n",
    "        print(pip_run.stdout)\n",
    "    for anno_name in anno_names:\n",
    "        r = requests.get(anno_base_url + anno_name + '.properties', allow_redirects=True)\n",
    "        with open(anno_dir / (anno_name + '.properties'), 'wb') as anno_file:\n",
    "            anno_file.write(r.content)"
   ]
  },
  {
   "cell_type": "code",
   "execution_count": null,
   "metadata": {},
   "outputs": [],
   "source": [
    "from pynanomapper import aa\n",
    "import ipywidgets as widgets\n",
    "from ipywidgets import interact, interactive, fixed, interact_manual\n",
    "import requests\n",
    "from importlib import reload \n",
    "from pynanomapper import client_solr\n",
    "from pynanomapper import client_ambit\n",
    "from pynanomapper import annotation\n",
    "import pandas as pd\n",
    "import numpy as np\n",
    "import json\n",
    "import warnings\n",
    "warnings.filterwarnings(\"ignore\")"
   ]
  },
  {
   "cell_type": "code",
   "execution_count": null,
   "metadata": {},
   "outputs": [],
   "source": [
    "print('Select eNanoMapper database instance:')\n",
    "\n",
    "#config=\"enanomapper_private.yaml\"\n",
    "config=\"enanomapper_public.yaml\"\n",
    "#config=\"enm_composite_private.yaml\"\n",
    "\n",
    "def search_service_protected(url,apikey):\n",
    "    return (url,apikey)\n",
    "def search_service_open(url):\n",
    "    return (url)    \n",
    "\n",
    "\n",
    "style = {'description_width': 'initial'}\n",
    "config,config_servers, config_security, auth_object, msg = aa.parseOpenAPI3(config=config)    \n",
    "service_widget = widgets.Dropdown(\n",
    "    options=config_servers['url'],\n",
    "    description='Service:',\n",
    "    disabled=False,\n",
    "    style=style\n",
    ")\n",
    "if config_security is None:\n",
    "    service = interactive(search_service_open,url=service_widget)\n",
    "else:\n",
    "    print(msg)\n",
    "    apikey_widget=widgets.Text(\n",
    "            placeholder='',\n",
    "            description=config_security,\n",
    "            disabled=False,\n",
    "            style=style\n",
    "    )    \n",
    "    service = interactive(search_service_protected,url=service_widget,apikey=apikey_widget)    \n",
    "\n",
    "display(service)\n"
   ]
  },
  {
   "cell_type": "markdown",
   "metadata": {},
   "source": [
    "### What is in the database ?"
   ]
  },
  {
   "cell_type": "code",
   "execution_count": null,
   "metadata": {},
   "outputs": [],
   "source": [
    "service_uri=service_widget.value\n",
    "print(auth_object)\n",
    "if auth_object != None:\n",
    "    auth_object.setKey(apikey_widget.value)\n",
    "\n",
    "cli_facets = client_ambit.AMBITFacets(service_uri)\n",
    "r = cli_facets.get(page=0,pagesize=1000,auth=auth_object)\n",
    "if r.status_code==200:\n",
    "\n",
    "    facets = cli_facets.parse(r.json())    \n",
    "    print(json.dumps(facets, indent=4))   \n",
    "else:\n",
    "    facets = None\n",
    "    print(r.status_code)"
   ]
  },
  {
   "cell_type": "code",
   "execution_count": null,
   "metadata": {},
   "outputs": [],
   "source": [
    "df=pd.DataFrame(facets)\n",
    "display(df[[\"subcategory\",\"endpoint\",\"value\",\"count\"]])"
   ]
  },
  {
   "cell_type": "code",
   "execution_count": null,
   "metadata": {},
   "outputs": [],
   "source": [
    "#endpoints\n",
    "cli_facets = client_ambit.AMBITFacets(service_uri,key=\"/experiment_endpoints\")\n",
    "\n",
    "r = cli_facets.get(page=0,pagesize=100,params={\"top\":\"TOX\"},auth=auth_object)\n",
    "if r.status_code==200:\n",
    "\n",
    "    facets = cli_facets.parse(r.json())    \n",
    "    #print(json.dumps(facets, indent=4))   \n",
    "    df=pd.DataFrame(facets)\n",
    "    display(df)\n",
    "else:\n",
    "    substances = None\n",
    "    print(r.status_code)"
   ]
  },
  {
   "cell_type": "markdown",
   "metadata": {},
   "source": [
    "###  Substance queries\n",
    "#### All gold nanoparticles"
   ]
  },
  {
   "cell_type": "code",
   "execution_count": null,
   "metadata": {},
   "outputs": [],
   "source": [
    "materialtype=\"NPO_401\"\n",
    "\n",
    "a = annotation.DictionarySubstancetypes()\n",
    "print(\">>> Looking for {}\".format(a.annotate(materialtype)))\n",
    "\n",
    "service_uri=service_widget.value\n",
    "\n",
    "cli_materials = client_ambit.AMBITSubstance(service_uri)\n",
    "r = cli_materials.get(params={'search': materialtype,'type' : 'substancetype'},page=0,pagesize=10,auth=auth_object)\n",
    "if r.status_code==200:\n",
    "\n",
    "    substances = cli_materials.parse(r.json())    \n",
    "    print(json.dumps(substances, indent=4))    \n",
    "else:\n",
    "    substances = None\n",
    "    print(r.status_code)"
   ]
  },
  {
   "cell_type": "markdown",
   "metadata": {},
   "source": [
    "#### Retrieve physchem data for selected substances"
   ]
  },
  {
   "cell_type": "code",
   "execution_count": null,
   "metadata": {},
   "outputs": [],
   "source": [
    "endpointcategory='PC_GRANULOMETRY_SECTION'\n",
    "a = annotation.DictionaryEndpointCategory()\n",
    "print(\">>> Looking for {}\".format(a.annotate(endpointcategory)))\n",
    "\n",
    "for substance in substances:\n",
    "    print(substance['URI'])    \n",
    "    cli = client_ambit.AMBITSubstanceStudy(substance['URI'])\n",
    "    r = cli.get(params={'category': endpointcategory,'top' : 'P-CHEM'},page=0,pagesize=10,auth=auth_object)\n",
    "    #print(r.json())\n",
    "    print(json.dumps(r.json(), indent=4))    "
   ]
  },
  {
   "cell_type": "markdown",
   "metadata": {},
   "source": [
    "#### Substance compositions"
   ]
  },
  {
   "cell_type": "code",
   "execution_count": null,
   "metadata": {},
   "outputs": [],
   "source": [
    "reload(client_ambit)\n",
    "for substance in substances:\n",
    "  \n",
    "    print(substance['URI'])    \n",
    "    cli = client_ambit.AMBITSubstanceComposition(substance['URI'])\n",
    "    r = cli.get(auth=auth_object)\n",
    "    compositions = cli.parse(r.json())\n",
    "    for composition in compositions:\n",
    "        print(\"-------------------------------------------------------------------------\")\n",
    "        print(composition['relation'])\n",
    "        print(composition['proportion'])        \n",
    "        print(composition['component']['compound']['cas'])\n",
    "        print(composition['component']['compound']['name'])\n",
    "        \n",
    "        cli_cmp = client_ambit.AMBITCompound(root_uri=composition['component']['compound']['URI'],resource=None)\n",
    "        response = cli_cmp.get(media=\"chemical/x-mdl-sdfile\",pagesize=1)\n",
    "        \n",
    "        if response.status_code == 200:\n",
    "            print(response.text) \n",
    "            "
   ]
  },
  {
   "cell_type": "markdown",
   "metadata": {},
   "source": [
    "#### Investigation\n",
    "results in a tabular form"
   ]
  },
  {
   "cell_type": "code",
   "execution_count": null,
   "metadata": {},
   "outputs": [],
   "source": [
    "reload(client_ambit)\n",
    "cli_investigation= client_ambit.AMBITInvestigation(service_uri)\n",
    "r = cli_investigation.get(params={'search': endpointcategory,'type' : 'bystudytype'},page=0,pagesize=100,auth=auth_object)\n",
    "if r.status_code==200:\n",
    "\n",
    "    results = cli_investigation.parse(r.json())    \n",
    "    print(json.dumps(results, indent=4))    \n",
    "else:\n",
    "    df=None\n",
    "    print(r.status_code)"
   ]
  },
  {
   "cell_type": "code",
   "execution_count": null,
   "metadata": {},
   "outputs": [],
   "source": [
    "df=pd.DataFrame(results)\n",
    "display(df.head())"
   ]
  },
  {
   "cell_type": "markdown",
   "metadata": {},
   "source": [
    "# Aggregated search\n",
    "\n",
    "- Using Solr-powered free text and faceted search over several eNanoMapper database instances\n",
    "- see https://search.data.enanomapper.net (web app) and  https://api.ideaconsult.net for API access\n"
   ]
  },
  {
   "cell_type": "markdown",
   "metadata": {},
   "source": [
    "### Service selection"
   ]
  },
  {
   "cell_type": "code",
   "execution_count": null,
   "metadata": {},
   "outputs": [],
   "source": [
    "print('Select enanoMapper aggregated search service:')\n",
    "style = {'description_width': 'initial'}\n",
    "config,config_servers, config_security, auth_object, msg = aa.parseOpenAPI3()    \n",
    "service_widget = widgets.Dropdown(\n",
    "    options=config_servers['url'],\n",
    "    description='Service:',\n",
    "    disabled=False,\n",
    "    style=style\n",
    ")\n",
    "if config_security is None:\n",
    "    service = interactive(search_service_open,url=service_widget)\n",
    "else:\n",
    "    print(msg)\n",
    "    apikey_widget=widgets.Text(\n",
    "            placeholder='',\n",
    "            description=config_security,\n",
    "            disabled=False,\n",
    "            style=style\n",
    "    )    \n",
    "    service = interactive(search_service_protected,url=service_widget,apikey=apikey_widget)    \n",
    "\n",
    "display(service)"
   ]
  },
  {
   "cell_type": "code",
   "execution_count": null,
   "metadata": {},
   "outputs": [],
   "source": [
    "service_uri=service_widget.value\n",
    "print(\"Sending queries to {}\".format(service_uri))\n",
    "if auth_object!=None:\n",
    "    auth_object.setKey(apikey_widget.value)\n"
   ]
  },
  {
   "cell_type": "markdown",
   "metadata": {},
   "source": [
    "### Faceted search "
   ]
  },
  {
   "cell_type": "markdown",
   "metadata": {},
   "source": [
    "#### [Facets] Number of substances per project"
   ]
  },
  {
   "cell_type": "code",
   "execution_count": null,
   "metadata": {},
   "outputs": [],
   "source": [
    "facets = client_solr.Facets()\n",
    "query=facets.getQuery(query=\"*:*\",facets=[\"dbtag_hss\"],fq=\"type_s:substance\")\n",
    "#print(query)\n",
    "r = client_solr.post(service_uri,query=query,auth=auth_object)\n",
    "response_json=r.json()\n",
    "print(response_json)\n",
    "if r.status_code==200:\n",
    "    facets.parse(response_json['facets'])\n",
    "else:\n",
    "    print(r.status_code)"
   ]
  },
  {
   "cell_type": "markdown",
   "metadata": {},
   "source": [
    "#### [Facets] Number of material types per project"
   ]
  },
  {
   "cell_type": "code",
   "execution_count": null,
   "metadata": {},
   "outputs": [],
   "source": [
    "query=facets.getQuery(query=\"*:*\",facets=[\"dbtag_hss\",\"substanceType_hs\"],fq=\"type_s:substance\")\n",
    "#print(query)\n",
    "r = client_solr.post(service_uri,query=query,auth=auth_object)\n",
    "response_json=r.json()\n",
    "if r.status_code==200:\n",
    "    facets.parse(response_json['facets'])\n",
    "else:\n",
    "    print(r.status_code)"
   ]
  },
  {
   "cell_type": "code",
   "execution_count": null,
   "metadata": {},
   "outputs": [],
   "source": [
    "a = annotation.DictionarySubstancetypes()\n",
    "term=a.annotate(\"NPO_354\")\n",
    "print(term)\n",
    "term=a.annotate(\"NPO_1373\")\n",
    "print(term)\n"
   ]
  },
  {
   "cell_type": "markdown",
   "metadata": {},
   "source": [
    "#### [Facets] Get all cell types"
   ]
  },
  {
   "cell_type": "code",
   "execution_count": null,
   "metadata": {},
   "outputs": [],
   "source": [
    "reload(client_solr)\n",
    "\n",
    "facets = client_solr.Facets()\n",
    "query=facets.getQuery(query=\"*:*\",facets=[\"E.cell_type_s\"],fq=\"type_s:params\")\n",
    "#print(query)\n",
    "r = client_solr.post(service_uri,query=query,auth=auth_object)\n",
    "response_json=r.json()\n",
    "if r.status_code==200:\n",
    "    facets.parse(response_json['facets'])\n",
    "else:\n",
    "    print(r.status_code)\n"
   ]
  },
  {
   "cell_type": "markdown",
   "metadata": {},
   "source": [
    "#### [Facets] Get all protocols per endpoint for titanium dioxide nanoparticles (NPO_1486)"
   ]
  },
  {
   "cell_type": "code",
   "execution_count": null,
   "metadata": {},
   "outputs": [],
   "source": [
    "fields=[\"topcategory_s\",\"endpointcategory_s\",\"guidance_s\"]\n",
    "query=facets.getQuery(query=\"substanceType_s:NPO_1486\",fq=\"type_s:study\",facets=fields)\n",
    "print(query)\n",
    "r = client_solr.post(service_uri,query=query,auth=auth_object)\n",
    "print(r.status_code)\n",
    "if r.status_code==200:\n",
    "    facets.parse(r.json()['facets'])\n",
    "else:\n",
    "    print(r.status_code)"
   ]
  },
  {
   "cell_type": "markdown",
   "metadata": {},
   "source": [
    "#### [Facets] Get all methods"
   ]
  },
  {
   "cell_type": "code",
   "execution_count": null,
   "metadata": {},
   "outputs": [],
   "source": [
    "fields=[\"topcategory_s\",\"endpointcategory_s\",\"E.method_s\",\"E.sop_reference_s\"]\n",
    "query=facets.getQuery(query=\"*:*\",fq=\"type_s:params\",facets=fields)\n",
    "print(query)\n",
    "r = client_solr.post(service_uri,query=query,auth=auth_object)\n",
    "print(r.status_code)\n",
    "if r.status_code==200:\n",
    "    facets.parse(r.json()['facets'])\n",
    "else:\n",
    "    print(r.status_code)"
   ]
  },
  {
   "cell_type": "markdown",
   "metadata": {},
   "source": [
    "#### [Facets] Get all material types"
   ]
  },
  {
   "cell_type": "code",
   "execution_count": null,
   "metadata": {},
   "outputs": [],
   "source": [
    "fields=[\"substanceType_hs\",\"publicname_hs\",\"name_hs\",\"dbtag_hss\"]\n",
    "query=facets.getQuery(fq=\"type_s:substance\",facets=fields)\n",
    "#print(query)\n",
    "r = client_solr.post(service_uri,query=query,auth=auth_object)\n",
    "print(r.status_code)\n",
    "if r.status_code==200:\n",
    "    facets.parse(r.json()['facets'])\n",
    "else:\n",
    "    print(r.status_code)"
   ]
  },
  {
   "cell_type": "markdown",
   "metadata": {},
   "source": [
    "#### [Facets]  Get all endpoints for nanotubes"
   ]
  },
  {
   "cell_type": "code",
   "execution_count": null,
   "metadata": {},
   "outputs": [],
   "source": [
    "query=facets.getQuery(query=\"carbon nanotube\",facets=[\"topcategory_s\",\"endpointcategory_s\",\"effectendpoint_s\",\"unit_s\"],fq=\"type_s:study\")\n",
    "#print(query)\n",
    "r = client_solr.post(service_uri,query=query,auth=auth_object)\n",
    "print(r.status_code)\n",
    "#print(r.json()['facets'])\n",
    "if r.status_code==200:\n",
    "    facets.parse(r.json()['facets'])\n",
    "else:\n",
    "    print(r.status_code)"
   ]
  },
  {
   "cell_type": "markdown",
   "metadata": {},
   "source": [
    "### Retrieve experimental data"
   ]
  },
  {
   "cell_type": "markdown",
   "metadata": {},
   "source": [
    "#### Physchem example - MWCNT size"
   ]
  },
  {
   "cell_type": "code",
   "execution_count": null,
   "metadata": {},
   "outputs": [],
   "source": [
    "reload(client_solr)\n",
    "study = client_solr.StudyDocuments()\n",
    "filter = {'topcategory_s':'P-CHEM', 'endpointcategory_s':'PC_GRANULOMETRY_SECTION' }\n",
    "study.setStudyFilter(filter)\n",
    "#this is important to retrieve params & conditions fields!\n",
    "study.getSettings()[\"fields\"]= \"*\"\n",
    "print(study.getSettings())\n",
    "#all TiO2 NPO_1486\n",
    "query = study.getQuery(textfilter='substanceType_s:NPO_354',rows=10000)\n",
    "print(query)\n",
    "r = client_solr.post(service_uri,query=query,auth=auth_object)"
   ]
  },
  {
   "cell_type": "code",
   "execution_count": null,
   "metadata": {},
   "outputs": [],
   "source": [
    "#parse the data\n",
    "if r.status_code==200:\n",
    "    study = client_solr.StudyDocuments()\n",
    "    docs = r.json()['response']['docs']\n",
    "    rows = study.parse(docs)\n",
    "    df = study.rows2frame(rows)\n",
    "    rows=None\n",
    "    uuids = ['uuid.investigation','uuid.assay','uuid.document','uuid.substance']\n",
    "    df.sort_values(by=uuids)\n",
    "    display(df.head(50))\n",
    "else:\n",
    "    print(r.status_code)"
   ]
  },
  {
   "cell_type": "code",
   "execution_count": null,
   "metadata": {},
   "outputs": [],
   "source": [
    "#Group by material and endpoint\n",
    "groups=[]\n",
    "\n",
    "groups.append(\"m.public.name\")\n",
    "#groups.append(\"x.params.E.method\")\n",
    "#groups.append(\"p.guidance\")\n",
    "groups.append(\"x.params.MEDIUM\")\n",
    "groups.append(\"value.endpoint\")\n",
    "groups.append(\"value.endpoint_type\")\n",
    "groups.append(\"value.unit\")\n",
    "print(groups)\n",
    "\n",
    "tmp=df.groupby(by=groups).agg({\"value.range.lo\" : [\"mean\",\"std\",\"count\"]}).reset_index()\n",
    "(tmp)"
   ]
  },
  {
   "cell_type": "markdown",
   "metadata": {},
   "source": [
    "#### Tox example - TiO2 cell viability"
   ]
  },
  {
   "cell_type": "code",
   "execution_count": null,
   "metadata": {},
   "outputs": [],
   "source": [
    "reload(client_solr)\n",
    "study = client_solr.StudyDocuments()\n",
    "filter = {'topcategory_s':'TOX', 'endpointcategory_s':'ENM_0000068_SECTION' }\n",
    "study.setStudyFilter(filter)\n",
    "#this is important to retrieve params & conditions fields!\n",
    "study.getSettings()[\"fields\"]= \"*\"\n",
    "print(study.getSettings())\n",
    "#all TiO2 NPO_1486\n",
    "query = study.getQuery(textfilter='substanceType_s:NPO_354',rows=10000)\n",
    "r = client_solr.post(service_uri,query=query,auth=auth_object)"
   ]
  },
  {
   "cell_type": "code",
   "execution_count": null,
   "metadata": {},
   "outputs": [],
   "source": [
    "#parse the data\n",
    "if r.status_code==200:\n",
    "    study = client_solr.StudyDocuments()\n",
    "    rows = study.parse(r.json()['response']['docs'])\n",
    "    df = study.rows2frame(rows)\n",
    "    rows=None\n",
    "    print(df.columns.values)\n",
    "    uuids = ['uuid.investigation','uuid.assay','uuid.document','uuid.substance']\n",
    "    df.sort_values(by=uuids)\n",
    "else:\n",
    "    df = None\n",
    "    print(r.status_code)"
   ]
  },
  {
   "cell_type": "code",
   "execution_count": null,
   "metadata": {},
   "outputs": [],
   "source": [
    "def filter_byprefix(values,prefix=\"x.conditions.concentration\"):\n",
    "    f = lambda x: x.startswith(prefix)\n",
    "    return values[np.array([f(x) for x in values])]  \n",
    "    \n",
    "_fields_to_show = np.concatenate([\n",
    "        filter_byprefix(df.columns.values,prefix=\"m.\"),\n",
    "        filter_byprefix(df.columns.values,prefix=\"p.oht.\"),\n",
    "        filter_byprefix(df.columns.values,prefix=\"x.params.E.method\"),\n",
    "        filter_byprefix(df.columns.values,prefix=\"value\"),\n",
    "        filter_byprefix(df.columns.values,prefix=\"x.conditions.concentration\"),\n",
    "        filter_byprefix(df.columns.values,prefix=\"uuid\"),\n",
    "        ])\n",
    "_fields_to_show"
   ]
  },
  {
   "cell_type": "code",
   "execution_count": null,
   "metadata": {},
   "outputs": [],
   "source": [
    "if not(df is None):\n",
    "    display(df[_fields_to_show].head(50))"
   ]
  },
  {
   "cell_type": "code",
   "execution_count": null,
   "metadata": {},
   "outputs": [],
   "source": [
    "groups=[]\n",
    "\n",
    "groups.append(\"m.public.name\")\n",
    "groups.append(\"uuid.assay\")\n",
    "groups.append(\"uuid.document\")\n",
    "#groups.append(\"x.params.E.method\")\n",
    "#groups.append(\"p.guidance\")\n",
    "groups.append(\"x.params.MEDIUM\")\n",
    "groups.append(\"x.params.E.cell_type\")\n",
    "groups.append(\"x.conditions.material\")\n",
    "groups.append(\"value.endpoint\")\n",
    "groups.append(\"value.endpoint_type\")\n",
    "groups.append(\"value.unit\")\n",
    "print(groups)\n",
    "\n",
    "tmp=df.groupby(by=groups).agg({\"value.range.lo\" : [\"mean\",\"std\",\"count\"]}).reset_index()\n",
    "display(tmp)"
   ]
  },
  {
   "cell_type": "markdown",
   "metadata": {},
   "source": [
    "."
   ]
  },
  {
   "cell_type": "markdown",
   "metadata": {},
   "source": [
    "## Annotation examples"
   ]
  },
  {
   "cell_type": "code",
   "execution_count": null,
   "metadata": {},
   "outputs": [],
   "source": [
    "\n",
    "reload(annotation)\n",
    "a = annotation.DictionaryEndpoints()\n",
    "for endpoint in [\"CIRCULARITY\",\"FERET_DIAMETER\",\"IC50\"]:\n",
    "    term=a.annotate(endpoint)\n",
    "    print(endpoint)\n",
    "    print(term)\n",
    "    print(a.getLink(term))\n"
   ]
  },
  {
   "cell_type": "code",
   "execution_count": null,
   "metadata": {},
   "outputs": [],
   "source": [
    "a = annotation.DictionaryCells()\n",
    "for cell in [\"3T3\",\"A549\"]:\n",
    "    term=a.annotate(cell)\n",
    "    print(cell)\n",
    "    print(term)\n",
    "    print(a.getLink(term))"
   ]
  },
  {
   "cell_type": "code",
   "execution_count": null,
   "metadata": {},
   "outputs": [],
   "source": [
    "a = annotation.DictionaryAssays()\n",
    "for assay in [\"CFE\",\"Alamar blue\",\"TEM\",\"COMET\"]:\n",
    "    term=a.annotate(assay)\n",
    "    print(assay)\n",
    "    print(term)\n",
    "    print(a.getLink(term))\n"
   ]
  },
  {
   "cell_type": "code",
   "execution_count": null,
   "metadata": {},
   "outputs": [],
   "source": [
    "a = annotation.DictionaryEndpointCategory()\n",
    "term=a.annotate(\"PC_GRANULOMETRY_SECTION\")\n",
    "print(term)\n",
    "print(a.getLink(term))"
   ]
  },
  {
   "cell_type": "code",
   "execution_count": null,
   "metadata": {},
   "outputs": [],
   "source": [
    "a = annotation.DictionarySpecies()\n",
    "term=a.annotate(\"rat\")\n",
    "print(term)\n",
    "print(a.getLink(term))"
   ]
  },
  {
   "cell_type": "code",
   "execution_count": null,
   "metadata": {},
   "outputs": [],
   "source": [
    "a = annotation.DictionarySubstancetypes()\n",
    "term=a.annotate(\"NPO_401\")\n",
    "print(term)\n"
   ]
  },
  {
   "cell_type": "code",
   "execution_count": null,
   "metadata": {},
   "outputs": [],
   "source": []
  }
 ],
 "metadata": {
  "kernelspec": {
   "display_name": "Python 3",
   "language": "python",
   "name": "python3"
  },
  "language_info": {
   "codemirror_mode": {
    "name": "ipython",
    "version": 3
   },
   "file_extension": ".py",
   "mimetype": "text/x-python",
   "name": "python",
   "nbconvert_exporter": "python",
   "pygments_lexer": "ipython3",
   "version": "3.7.9"
  },
  "toc": {
   "base_numbering": 1,
   "nav_menu": {},
   "number_sections": false,
   "sideBar": false,
   "skip_h1_title": false,
   "title_cell": "Table of Contents",
   "title_sidebar": "Contents",
   "toc_cell": false,
   "toc_position": {},
   "toc_section_display": false,
   "toc_window_display": false
  }
 },
 "nbformat": 4,
 "nbformat_minor": 2
}
