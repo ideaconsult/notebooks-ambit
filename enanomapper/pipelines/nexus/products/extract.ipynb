{
 "cells": [
  {
   "cell_type": "code",
   "execution_count": null,
   "id": "e96236c3",
   "metadata": {},
   "outputs": [],
   "source": [
    "upstream = None\n",
    "enm_api_url = None\n",
    "enm_api_key = None\n",
    "folder_output = None\n",
    "query = None\n",
    "product = None\n",
    "db = None"
   ]
  },
  {
   "cell_type": "code",
   "execution_count": null,
   "id": "002550be",
   "metadata": {},
   "outputs": [],
   "source": [
    "# Parameters\n",
    "folder_output = \"products\"\n",
    "enm_api_url = \"https://api.ideaconsult.net/sbd4nano\"\n",
    "enm_api_key = \"redacted\"\n",
    "query = \"type=citation&search=SBD4NANO_CASESTUDY_HIQNANO_FLUORESCENT_SILICA\"\n",
    "db = \"sbd4nano\"\n",
    "product = {\n",
    "    \"nb\": \"products\\\\extract.ipynb\"\n",
    "}\n"
   ]
  },
  {
   "cell_type": "code",
   "execution_count": null,
   "id": "2aecf09a",
   "metadata": {},
   "outputs": [],
   "source": [
    "from pynanomapper import aa\n",
    "import os, os.path\n",
    "import pandas as pd\n",
    "import requests \n",
    "import  pynanomapper.datamodel.ambit as m2n\n",
    "from pynanomapper.datamodel.nexus_writer import to_nexus\n",
    "import nexusformat.nexus.tree as nx\n",
    "import traceback\n",
    "import json\n",
    "import uuid"
   ]
  },
  {
   "cell_type": "code",
   "execution_count": null,
   "id": "b5a1a3cf",
   "metadata": {},
   "outputs": [],
   "source": [
    "def json2nexus(url_db,auth,pjson):\n",
    "    substances = m2n.Substances(**pjson)\n",
    "    for substance in substances.substance:\n",
    "        try:\n",
    "            sjson = None\n",
    "            url = \"{}/substance/{}/study&media=application/json&max={}\".format(url_db,substance.i5uuid,10000)\n",
    "            #url = \"{}/study?media=application/json&max=10000\".format(substance.URI)\n",
    "            response = requests.get(url,auth=auth)\n",
    "            if response.status_code ==200:\n",
    "                print(substance.i5uuid)\n",
    "                sjson = response.json()\n",
    "                substance.study = m2n.Study(**sjson).study\n",
    "            else:\n",
    "                print(response.status_code,url)\n",
    "        except Exception as err:    \n",
    "            print(\"An exception occurred: %s\", str(err))\n",
    "            print(\"Exception traceback:\\n%s\", traceback.format_exc())\n",
    "            # Write JSON data to the file\n",
    "            with open(os.path.join(folder_output,\"{}.json\".format(substance.i5uuid)), 'w') as json_file:\n",
    "                json.dump(sjson, json_file, indent=2)  \n",
    "            break\n",
    " \n",
    "    return substances"
   ]
  },
  {
   "cell_type": "code",
   "execution_count": null,
   "id": "7427ef02",
   "metadata": {},
   "outputs": [],
   "source": [
    "config,config_servers, config_security, auth_object, msg = aa.parseOpenAPI3() \n",
    "if auth_object!=None:\n",
    "    auth_object.setKey(enm_api_key)  "
   ]
  },
  {
   "cell_type": "code",
   "execution_count": null,
   "id": "61ce1478",
   "metadata": {},
   "outputs": [],
   "source": [
    "rows = 1000\n",
    "url_db = \"{}/enm/{}/substance?{}&media=application/json&max={}\".format(enm_api_url,db,query,rows)"
   ]
  },
  {
   "cell_type": "code",
   "execution_count": null,
   "id": "0b5c18ff",
   "metadata": {},
   "outputs": [],
   "source": [
    "OK = False\n",
    "response = requests.get(url_db,auth=auth_object)\n",
    "if response.status_code ==200:\n",
    "    #print(response.text)\n",
    "    pjson = response.json()\n",
    "    OK = True\n",
    "else:\n",
    "    print(response.status_code)"
   ]
  },
  {
   "cell_type": "code",
   "execution_count": null,
   "id": "b874f0b7",
   "metadata": {},
   "outputs": [],
   "source": [
    "if OK:\n",
    "    OK = False\n",
    "    try:\n",
    "        substances = json2nexus(\"{}/enm/{}\".format(enm_api_url,db),auth_object,pjson)\n",
    "        OK = True\n",
    "    except Exception as err:  \n",
    "        print(err)"
   ]
  },
  {
   "cell_type": "code",
   "execution_count": null,
   "id": "4a3c675e",
   "metadata": {},
   "outputs": [],
   "source": [
    "if OK:\n",
    "    nxroot = nx.NXroot()\n",
    "    substances.to_nexus(nxroot)\n",
    "    _file = os.path.join(folder_output,\"substances_{}.nxs\".format(uuid.uuid5(uuid.NAMESPACE_OID,query)))\n",
    "    print(_file)\n",
    "    nxroot.save(_file,mode=\"w\")"
   ]
  },
  {
   "cell_type": "code",
   "execution_count": null,
   "id": "3d7d625b",
   "metadata": {},
   "outputs": [],
   "source": []
  }
 ],
 "metadata": {
  "jupytext": {
   "cell_metadata_filter": "tags,-all",
   "main_language": "python",
   "notebook_metadata_filter": "-all",
   "text_representation": {
    "extension": ".py",
    "format_name": "light"
   }
  },
  "kernelspec": {
   "display_name": "Python 3 (ipykernel)",
   "language": "python",
   "name": "python3"
  },
  "language_info": {
   "codemirror_mode": {
    "name": "ipython",
    "version": 3
   },
   "file_extension": ".py",
   "mimetype": "text/x-python",
   "name": "python",
   "nbconvert_exporter": "python",
   "pygments_lexer": "ipython3"
  },
  "papermill": {
   "duration": 14.636095,
   "end_time": "2024-05-22T08:40:35.034236",
   "exception": null,
   "input_path": "C:\\Users\\jelia\\AppData\\Local\\Temp\\tmp0rmiz2ql.ipynb",
   "output_path": "D:\\nina\\src\\notebooks-ambit\\enanomapper\\pipelines\\nexus\\products\\extract.ipynb",
   "parameters": {
    "db": "sbd4nano",
    "enm_api_key": "89268cd9-a640-4c63-b71a-636bf6a27f79",
    "enm_api_url": "https://api.ideaconsult.net/sbd4nano",
    "folder_output": "products",
    "product": {
     "nb": "D:\\nina\\src\\notebooks-ambit\\enanomapper\\pipelines\\nexus\\products\\extract.ipynb"
    },
    "query": "type=citation&search=SBD4NANO_CASESTUDY_HIQNANO_FLUORESCENT_SILICA"
   },
   "start_time": "2024-05-22T08:40:20.398141"
  }
 },
 "nbformat": 4,
 "nbformat_minor": 5
}
