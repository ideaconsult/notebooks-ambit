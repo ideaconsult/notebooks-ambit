{
 "cells": [
  {
   "cell_type": "markdown",
   "metadata": {},
   "source": [
    "# Coverting Excel templates using nmparser API"
   ]
  },
  {
   "cell_type": "code",
   "execution_count": null,
   "metadata": {},
   "outputs": [],
   "source": [
    "_URL_PARSER = \"https://api.ideaconsult.net/gracious/enm/gracious/nmparser\"\n",
    "_URL_PARSER = \"https://api.ideaconsult.net/nanoreg1/enm/nanoreg1/nmparser\"\n",
    "\n",
    "\n",
    "config = {\n",
    "    \"files[]\": [\"doseresponse/GRACIOUS-TDRF-invitro-WP5-P8-WST-1_nanomaterials.xlsx\"],\n",
    "    \"jsonconfig\": \"doseresponse/WST1.json\",\n",
    "    \"expandconfig\": \"./doseresponse/expand.json\"\n",
    "}"
   ]
  },
  {
   "cell_type": "code",
   "execution_count": null,
   "metadata": {},
   "outputs": [],
   "source": [
    "import requests\n",
    "import io\n",
    "\n",
    "\n",
    "def call_nmparser(config, url=_URL_PARSER):\n",
    "    form = {}\n",
    "    for key, value in config.items():\n",
    "        if isinstance(value, str):\n",
    "            # If the value is a string (file path), convert it to a list\n",
    "            value = [value]\n",
    "        for file_path in value:\n",
    "            with open(file_path, 'rb') as file:\n",
    "                file_content = file.read()\n",
    "                file_name = file.name\n",
    "            form[key] = (file_name, io.BytesIO(file_content))\n",
    "\n",
    "    try:\n",
    "        print(form)\n",
    "        response = requests.post(url, files=form)\n",
    "        if response.status_code == 200:\n",
    "            return response.json()\n",
    "        else:\n",
    "            raise Exception(response.status_code)\n",
    "    except Exception as err:\n",
    "        raise err\n",
    "\n",
    "parsed_json = call_nmparser(config)\n",
    "\n",
    "for key in parsed_json:\n",
    "    print(key,parsed_json[key])\n"
   ]
  },
  {
   "cell_type": "code",
   "execution_count": null,
   "metadata": {},
   "outputs": [],
   "source": [
    "# explore the json structure\n",
    "\n",
    "from IPython.display import JSON\n",
    "\n",
    "for substance in parsed_json[\"substance\"]:\n",
    "    print(substance[\"name\"])\n",
    "    for study in substance[\"study\"]:\n",
    "        for key in study:\n",
    "            if key == \"effects\":\n",
    "                for effect in study[key]:\n",
    "                    print(effect)\n",
    "            else:\n",
    "                print(key,\":\",study[key])\n",
    "\n",
    "    #JSON(substance[\"study\"])"
   ]
  },
  {
   "cell_type": "markdown",
   "metadata": {},
   "source": [
    "# Converting AMBIT Json to NeXus using REST API \n",
    "(under development)"
   ]
  },
  {
   "cell_type": "code",
   "execution_count": null,
   "metadata": {},
   "outputs": [],
   "source": [
    "import json\n",
    "\n",
    "def ambit2nexus(substance_json, url=\"https://api.ramanchada.ideaconsult.net/dataset/convert\"):\n",
    "    try:\n",
    "        response = requests.post(url,json =substance_json)\n",
    "        if response.status_code == 200:\n",
    "            return response.json()\n",
    "        else:\n",
    "            raise(Exception(response.status_code))\n",
    "    except Exception as err:\n",
    "        raise err\n",
    "\n",
    "task = ambit2nexus(parsed_json)\n",
    "task"
   ]
  },
  {
   "cell_type": "markdown",
   "metadata": {},
   "source": [
    "# Parsing JSON with pynanomapper "
   ]
  },
  {
   "cell_type": "code",
   "execution_count": null,
   "metadata": {},
   "outputs": [],
   "source": [
    "from  pynanomapper.datamodel.ambit import Substances\n",
    "\n",
    "s = Substances(**parsed_json)\n",
    "for substance in s.substance:\n",
    "\n",
    "    print(substance.name)\n",
    "    print(substance.i5uuid)\n",
    "    for study in substance.study:\n",
    "        print(study.owner)\n",
    "        print(study.protocol)\n",
    "        print(study.citation)\n",
    "        print(study.parameters)\n",
    "        for effect in study.effects:\n",
    "            print(effect.endpoint,effect.endpointtype,{key: value for key, value in effect.result if value is not None})\n",
    "            print(effect.conditions)\n",
    "    print()"
   ]
  },
  {
   "cell_type": "markdown",
   "metadata": {},
   "source": [
    "# Convert to NeXus with pynanomapper"
   ]
  },
  {
   "cell_type": "code",
   "execution_count": null,
   "metadata": {},
   "outputs": [],
   "source": [
    "from  pynanomapper.datamodel.ambit import Substances\n",
    "from  pynanomapper.datamodel.nexus_writer import to_nexus\n",
    "import nexusformat.nexus.tree as nx\n",
    "\n",
    "import os\n",
    "_nxroot = nx.NXroot()\n",
    "_substance = None\n",
    "_substance = Substances(**parsed_json)\n",
    "_substance.to_nexus(_nxroot)\n",
    "_nxroot.save(\"substances.nxs\", 'w')\n"
   ]
  },
  {
   "cell_type": "code",
   "execution_count": null,
   "metadata": {},
   "outputs": [],
   "source": [
    "parsed_json\n",
    "json_data =parsed_json[\"substance\"][0][\"study\"][0]\n",
    "parsed_json[\"substance\"][0]"
   ]
  },
  {
   "cell_type": "code",
   "execution_count": null,
   "metadata": {},
   "outputs": [],
   "source": [
    "from  pynanomapper.datamodel.ambit import Study\n",
    "from  pynanomapper.datamodel.nexus_writer import to_nexus\n",
    "import nexusformat.nexus.tree as nx\n",
    "sjson = parsed_json[\"substance\"][0]\n",
    "s = Study(**sjson)\n",
    "print(s)\n",
    "ne = s.to_nexus(nx.NXroot())\n",
    "print(ne.tree)"
   ]
  },
  {
   "cell_type": "code",
   "execution_count": null,
   "metadata": {},
   "outputs": [],
   "source": [
    "from  pynanomapper.datamodel.ambit import ProtocolApplication\n",
    "\n",
    "\n",
    "pa = ProtocolApplication(**json_data)\n",
    "pa"
   ]
  },
  {
   "cell_type": "code",
   "execution_count": null,
   "metadata": {},
   "outputs": [],
   "source": [
    "from  pynanomapper.datamodel.nexus_writer import to_nexus\n",
    "import nexusformat.nexus.tree as nx\n",
    "ne = pa.to_nexus(nx.NXroot())\n",
    "print(ne.tree)"
   ]
  }
 ],
 "metadata": {
  "kernelspec": {
   "display_name": "Python 3.9.13 ('charisma')",
   "language": "python",
   "name": "python3"
  },
  "language_info": {
   "codemirror_mode": {
    "name": "ipython",
    "version": 3
   },
   "file_extension": ".py",
   "mimetype": "text/x-python",
   "name": "python",
   "nbconvert_exporter": "python",
   "pygments_lexer": "ipython3",
   "version": "3.10.12"
  },
  "orig_nbformat": 4,
  "vscode": {
   "interpreter": {
    "hash": "fb04d3982f35e0acdef77e55e8b663fd61d1c7b237bd8280d18cbffb390c1e7d"
   }
  }
 },
 "nbformat": 4,
 "nbformat_minor": 2
}
