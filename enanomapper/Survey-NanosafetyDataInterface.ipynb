{
 "cells": [
  {
   "cell_type": "markdown",
   "metadata": {},
   "source": [
    "# Nanosafety Data Interface Survey\n",
    "\n",
    "Nanosafety data interface – online user interface enabling user friendly access to the aggregated search index of (sub)set of eNanoMapper database instances. Usually the user interface is project specific and protected but can be also publicly available. Multiple project specific interfaces at https://search.data.enanomapper.net/.\n"
   ]
  },
  {
   "cell_type": "code",
   "execution_count": null,
   "metadata": {},
   "outputs": [],
   "source": [
    "import yaml\n",
    "from pynanomapper import aa\n",
    "from pynanomapper import units\n",
    "import ipywidgets as widgets\n",
    "from ipywidgets import interact, interactive, fixed, interact_manual\n",
    "import requests\n",
    "from importlib import reload \n",
    "from pynanomapper import client_solr\n",
    "from pynanomapper import client_ambit\n",
    "from pynanomapper import annotation\n",
    "import pandas as pd\n",
    "import numpy as np\n",
    "import json\n",
    "import pandas as pd\n",
    "import importlib\n",
    "import warnings\n",
    "import qgrid \n",
    "\n",
    "import matplotlib.pyplot as plt\n",
    "import io\n",
    "from measurement.utils import guess\n",
    "from measurement.measures import Distance, Temperature, Volume, Area, Frequency, Mass, Time\n",
    "#init_notebook_mode(connected=True)\n",
    "warnings.simplefilter(\"ignore\")\n",
    "\n",
    "import logging,os,time\n",
    "from logging.config import fileConfig\n",
    "fileConfig('logging_endpoints_config.ini')\n",
    "logger = logging.getLogger()\n",
    "logger.info('Started at %s \\t%s',os.name, time.time())"
   ]
  },
  {
   "cell_type": "code",
   "execution_count": null,
   "metadata": {},
   "outputs": [],
   "source": [
    "print('Select enanoMapper aggregated search service:')\n",
    "style = {'description_width': 'initial'}\n",
    "config,config_servers, config_security, auth_object, msg = aa.parseOpenAPI3()    \n",
    "service_widget = widgets.Dropdown(\n",
    "    options=config_servers['url'],\n",
    "    description='Service:',\n",
    "    disabled=False,\n",
    "    style=style\n",
    ")\n",
    "if config_security is None:\n",
    "    service = interactive(aa.search_service_open,url=service_widget)\n",
    "else:\n",
    "    print(msg)\n",
    "    apikey_widget=widgets.Text(\n",
    "            placeholder='',\n",
    "            description=config_security,\n",
    "            disabled=False,\n",
    "            style=style\n",
    "    )    \n",
    "    service = interactive(aa.search_service_protected,url=service_widget,apikey=apikey_widget)    \n",
    "\n",
    "display(service)"
   ]
  },
  {
   "cell_type": "code",
   "execution_count": null,
   "metadata": {},
   "outputs": [],
   "source": [
    "service_uri=service_widget.value\n",
    "if auth_object!=None:\n",
    "    auth_object.setKey(apikey_widget.value)\n",
    "print(\"Sending queries to {}\".format(service_uri))"
   ]
  },
  {
   "cell_type": "code",
   "execution_count": null,
   "metadata": {},
   "outputs": [],
   "source": [
    "def log_query(q):\n",
    "    #logger.debug(q)\n",
    "    pass\n",
    "    \n",
    "def beautify(r):\n",
    "    pass\n",
    "facets = client_solr.Facets()    "
   ]
  },
  {
   "cell_type": "markdown",
   "metadata": {},
   "source": [
    "# Database records"
   ]
  },
  {
   "cell_type": "code",
   "execution_count": null,
   "metadata": {},
   "outputs": [],
   "source": [
    "dfm = facets.summary(service_uri,auth_object, query=\"*:*\",fields=[\"owner_name_hs\"],fq='type_s:substance',log_query=log_query,log_result=beautify)    \n",
    "projects = dfm[\"owner_name_hs\"].unique()\n",
    "dfm.to_excel(\"projects.xlsx\")\n",
    "dfm"
   ]
  },
  {
   "cell_type": "code",
   "execution_count": null,
   "metadata": {},
   "outputs": [],
   "source": [
    "#projects = [\"NanoReg2\",\"OMICS_DATA\",\"NANoREG\",\"NanoTest\",\"ENPRA\",\"MARINA\",\"NanoGenotox\",\"SANOWORK\",\"caNanoLab\",\"eNanoMapper\",\"GRACIOUS\"]\n",
    "for project in projects:\n",
    "    dfm = facets.summary(service_uri,auth_object, query=\"owner_name_hs:{}\".format(project.replace(\" \",\"\\ \")),fields=[\"owner_name_hs\",\"substanceType_hs\",\"s_uuid_hs\",\"publicname_hs\",\"name_hs\"],fq='type_s:substance',log_query=log_query,log_result=beautify)    \n",
    "    #print(dfm.head())\n",
    "    #if dfm.shape[0]>0:\n",
    "    try:\n",
    "        dfm.to_csv(\"materials_{}.csv\".format(project))  \n",
    "        dfs = facets.summary(service_uri,auth_object, query=\"owner_name_s:({})\".format(project.replace(\" \",\"\\ \")),fields=[\"owner_name_s\",\"document_uuid_s\"],fq='type_s:study',log_query=log_query,log_result=beautify)    \n",
    "\n",
    "        dfs.to_csv(\"study_{}.csv\".format(project))\n",
    "        print(\"Project `{}` Materials {} Studies {} Data {}\".format(project,dfm.shape[0],dfs.shape[0],dfs[\"Number of data points\"].sum()))\n",
    "    except Exception as err:\n",
    "        print(err)\n"
   ]
  },
  {
   "cell_type": "markdown",
   "metadata": {},
   "source": [
    "# Endpoints"
   ]
  },
  {
   "cell_type": "code",
   "execution_count": null,
   "metadata": {},
   "outputs": [],
   "source": [
    "\n",
    "facets = client_solr.Facets()\n",
    "df = facets.summary(service_uri,auth_object, query=\"*:*\",fields=[\"topcategory_s\",\"endpointcategory_s\"],log_query=log_query,log_result=beautify)    \n",
    "\n",
    "df.rename(columns={'owner_name_s':'project','endpointcategory_name' : 'endpoint', 'topcategory_s' : 'category'},inplace=True)\n",
    "df.to_csv(\"endpoints_all.csv\")  \n",
    "#qgrid.show_grid(df[[\"category\",\"endpoint\",\"Number of data points\"]])\n",
    "df[[\"category\",\"endpoint\",\"Number of data points\"]]"
   ]
  },
  {
   "cell_type": "code",
   "execution_count": null,
   "metadata": {},
   "outputs": [],
   "source": [
    "facets = client_solr.Facets()\n",
    "df = facets.summary(service_uri,auth_object, query=\"*:*\",fields=[\"topcategory_s\",\"endpointcategory_s\",\"owner_name_s\"],log_query=log_query,log_result=beautify)    \n",
    "\n",
    "df.rename(columns={'owner_name_s':'project','endpointcategory_name' : 'endpoint', 'topcategory_s' : 'category'},inplace=True)"
   ]
  },
  {
   "cell_type": "code",
   "execution_count": null,
   "metadata": {},
   "outputs": [],
   "source": [
    "(df[[\"project\",\"category\",\"endpoint\",\"Number of data points\"]])"
   ]
  },
  {
   "cell_type": "markdown",
   "metadata": {},
   "source": [
    "# Material types"
   ]
  },
  {
   "cell_type": "code",
   "execution_count": null,
   "metadata": {},
   "outputs": [],
   "source": [
    "\n",
    "for project in projects:\n",
    "    dfm = facets.summary(service_uri,auth_object, query=\"owner_name_hs:{}\".format(project),fields=[\"owner_name_hs\",\"substanceType_hs\"],fq='type_s:substance',log_query=log_query,log_result=beautify)    \n",
    "    if dfm.shape[0]>0:\n",
    "        dfm.to_csv(\"materialtypes_{}.csv\".format(project))  \n",
    "        print(\"Project `{}` Material types {}\".format(project,dfm.shape[0]))\n",
    "        #display(dfm)"
   ]
  },
  {
   "cell_type": "code",
   "execution_count": null,
   "metadata": {},
   "outputs": [],
   "source": [
    "# All material types\n",
    "dfm = facets.summary(service_uri,auth_object, query=\"*:*\".format(project),fields=[\"substanceType_hs\"],fq='type_s:substance',log_query=log_query,log_result=beautify)    \n",
    "dfm.to_csv(\"materialtypes_all.csv\".format(project))  \n",
    "dfm    "
   ]
  },
  {
   "cell_type": "markdown",
   "metadata": {},
   "source": [
    "## Cell lines / in-vivo doses"
   ]
  },
  {
   "cell_type": "code",
   "execution_count": null,
   "metadata": {},
   "outputs": [],
   "source": [
    "import numpy as np\n",
    "facets = client_solr.Facets()\n",
    "df = facets.summary(service_uri,auth_object, query=\"owner_name_s:*\",fields=['endpointcategory_s',\"effectendpoint_s\",\"owner_name_s\",\"E.cell_type_s\",\"_CONDITION_Dose_d\",\"_CONDITION_Dose_UNIT_s\"],log_query=log_query,log_result=beautify)    \n",
    "df.rename(columns={'_CONDITION_Dose_d':'dose','_CONDITION_Dose_UNIT_s' : 'dose unit', \n",
    "        'owner_name_s':'project','endpointcategory_name' : 'endpoint category','effectendpoint_s':\"endpoint\",\n",
    "             'topcategory_s' : 'category',\"E.cell_type_s\" : \"cell type\"},inplace=True)\n",
    "\n",
    "df_dose = df.loc[df['dose']!='_']\n",
    "df_dose[[\"project\",\"cell type\",\"endpoint category\",\"endpoint\",\"dose\",\"dose unit\",\"Number of data points\"]]\n",
    "df_dose.to_csv(\"cell_dose.csv\") "
   ]
  },
  {
   "cell_type": "markdown",
   "metadata": {},
   "source": [
    "## Cell lines / in-vitro concentrations"
   ]
  },
  {
   "cell_type": "code",
   "execution_count": null,
   "metadata": {},
   "outputs": [],
   "source": [
    "import numpy as np\n",
    "facets = client_solr.Facets()\n",
    "df = facets.summary(service_uri,auth_object, query=\"owner_name_s:*\",fields=['endpointcategory_s',\"effectendpoint_s\",\"owner_name_s\",\"E.cell_type_s\",\"_CONDITION_concentration_d\",\"_CONDITION_concentration_UNIT_s\"],log_query=log_query,log_result=beautify)    \n",
    "df.rename(columns={'_CONDITION_concentration_d':'concentration','_CONDITION_concentration_UNIT_s' : 'concentration unit', \n",
    "        'owner_name_s':'project','endpointcategory_name' : 'endpoint category','effectendpoint_s':\"endpoint\",\n",
    "             'topcategory_s' : 'category',\"E.cell_type_s\" : \"cell type\"},inplace=True)\n",
    "\n",
    "df_dose = df.loc[df['concentration']!='_']\n",
    "df_dose[[\"project\",\"cell type\",\"endpoint category\",\"endpoint\",\"concentration\",\"concentration unit\",\"Number of data points\"]]\n",
    "df_dose.to_csv(\"cell_concentration.csv\") "
   ]
  }
 ],
 "metadata": {
  "kernelspec": {
   "display_name": "Python 3.8.10 ('keras')",
   "language": "python",
   "name": "python3"
  },
  "language_info": {
   "codemirror_mode": {
    "name": "ipython",
    "version": 3
   },
   "file_extension": ".py",
   "mimetype": "text/x-python",
   "name": "python",
   "nbconvert_exporter": "python",
   "pygments_lexer": "ipython3",
   "version": "3.8.10"
  },
  "vscode": {
   "interpreter": {
    "hash": "3b1278770e967cb29178483d49c6dc8a8b2d435755025c70e9351ffa2b999f97"
   }
  }
 },
 "nbformat": 4,
 "nbformat_minor": 4
}
